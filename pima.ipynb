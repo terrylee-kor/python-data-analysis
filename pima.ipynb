{
  "nbformat": 4,
  "nbformat_minor": 0,
  "metadata": {
    "colab": {
      "name": "pima.ipynb",
      "private_outputs": true,
      "provenance": [],
      "authorship_tag": "ABX9TyOK8fI/99O+BfQ1f1C5ftsV",
      "include_colab_link": true
    },
    "kernelspec": {
      "name": "python3",
      "display_name": "Python 3"
    },
    "language_info": {
      "name": "python"
    }
  },
  "cells": [
    {
      "cell_type": "markdown",
      "metadata": {
        "id": "view-in-github",
        "colab_type": "text"
      },
      "source": [
        "<a href=\"https://colab.research.google.com/github/terrylee-kor/python-data-analysis/blob/master/pima.ipynb\" target=\"_parent\"><img src=\"https://colab.research.google.com/assets/colab-badge.svg\" alt=\"Open In Colab\"/></a>"
      ]
    },
    {
      "cell_type": "code",
      "metadata": {
        "id": "5ojW4mpOjVji"
      },
      "source": [
        "\n",
        "#pregnancise : 임신횟수\n",
        "#glucose : 2시간 동안의 경우 포도당 내성 검사 포도당 농도 "
      ],
      "execution_count": null,
      "outputs": []
    },
    {
      "cell_type": "code",
      "metadata": {
        "id": "oxSJiIl5kEXX"
      },
      "source": [
        "import pandas as pd\n",
        "import numpy as np\n",
        "import seaborn as sns\n",
        "import matplotlib.pyplot as plt\n",
        "\n",
        "%matplotlib inline"
      ],
      "execution_count": null,
      "outputs": []
    },
    {
      "cell_type": "code",
      "metadata": {
        "id": "ZT6oNyB_kaaU"
      },
      "source": [
        "df = pd.read_csv(\"//content/sample_data/diabetes.csv\")\n",
        "df.shape\n"
      ],
      "execution_count": null,
      "outputs": []
    },
    {
      "cell_type": "code",
      "metadata": {
        "id": "P-06gDy7kuG3"
      },
      "source": [
        "df.head()"
      ],
      "execution_count": null,
      "outputs": []
    },
    {
      "cell_type": "code",
      "metadata": {
        "id": "7XVW17_IlBQx"
      },
      "source": [
        "split_count = int(df.shape[0] * 0.8)\n",
        "split_count"
      ],
      "execution_count": null,
      "outputs": []
    },
    {
      "cell_type": "code",
      "metadata": {
        "id": "qvYCfa3-lY-S"
      },
      "source": [
        "train = df[:split_count].copy()\n",
        "train.shape"
      ],
      "execution_count": null,
      "outputs": []
    },
    {
      "cell_type": "code",
      "metadata": {
        "id": "PE50EuDqlx4G"
      },
      "source": [
        "test = df[split_count:].copy()\n",
        "test.shape"
      ],
      "execution_count": null,
      "outputs": []
    },
    {
      "cell_type": "code",
      "metadata": {
        "id": "eALeXC2SmKPe"
      },
      "source": [
        "feature_names = train.columns[:-1].tolist()\n",
        "feature_names"
      ],
      "execution_count": null,
      "outputs": []
    },
    {
      "cell_type": "code",
      "metadata": {
        "id": "-gzpmuRambWE"
      },
      "source": [
        "label_name = train.columns[-1]\n",
        "label_name"
      ],
      "execution_count": null,
      "outputs": []
    },
    {
      "cell_type": "code",
      "metadata": {
        "id": "ZqW-hsjRmsu_"
      },
      "source": [
        "#학습 세트 만들기 (시험 기출문제)\n",
        "X_train = train[feature_names]\n",
        "print (X_train.shape )\n",
        "X_train.head()"
      ],
      "execution_count": null,
      "outputs": []
    },
    {
      "cell_type": "code",
      "metadata": {
        "id": "vq6q6zQNm3TM"
      },
      "source": [
        "#정답 값을 만들어 줍니다. 기출문제 정답 \n",
        "y_train = train[label_name ]\n",
        "print(y_train.shape)\n",
        "y_train.head()"
      ],
      "execution_count": null,
      "outputs": []
    },
    {
      "cell_type": "code",
      "metadata": {
        "id": "bjHZK7eKnFSH"
      },
      "source": [
        "#예측에 사용할 데이터 세트 만든다 (실전시험 문제)\n",
        "X_test = test [feature_names]\n",
        "print(X_test.shape)\n",
        "X_test.head()"
      ],
      "execution_count": null,
      "outputs": []
    },
    {
      "cell_type": "code",
      "metadata": {
        "id": "Bej3LcjtngU4"
      },
      "source": [
        "#예측의 정답값 실전 시험 문제 정답 \n",
        "y_test = test[label_name]\n",
        "print(y_test.shape)\n",
        "y_test.head()"
      ],
      "execution_count": null,
      "outputs": []
    },
    {
      "cell_type": "code",
      "metadata": {
        "id": "2-dDe4MqnznB"
      },
      "source": [
        "#머신러닝 알고르즘 가져오기 \n",
        "from sklearn.tree import DecisionTreeClassifier\n",
        "\n",
        "model = DecisionTreeClassifier()\n",
        "model"
      ],
      "execution_count": null,
      "outputs": []
    },
    {
      "cell_type": "code",
      "metadata": {
        "id": "WlT1B0yaoKP_"
      },
      "source": [
        "model.fit(X_train, y_train)"
      ],
      "execution_count": null,
      "outputs": []
    },
    {
      "cell_type": "code",
      "metadata": {
        "id": "g4I-e4J9oMEj"
      },
      "source": [
        "y_predit = model.predict(X_test)\n",
        "y_predit[:5]"
      ],
      "execution_count": null,
      "outputs": []
    },
    {
      "cell_type": "code",
      "metadata": {
        "id": "VVWG3zfAoPPB"
      },
      "source": [
        ""
      ],
      "execution_count": null,
      "outputs": []
    }
  ]
}